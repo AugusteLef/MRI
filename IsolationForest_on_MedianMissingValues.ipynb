{
 "cells": [
  {
   "cell_type": "code",
   "execution_count": 90,
   "metadata": {},
   "outputs": [],
   "source": [
    "import numpy as np\n",
    "from sklearn.ensemble import IsolationForest\n",
    "y_train = np.genfromtxt(\"y_train.csv\", delimiter=\",\")\n",
    "features_train = np.genfromtxt(\"x_train_median.csv\", delimiter=\",\", dtype='double')[1:]\n",
    "features_test = np.genfromtxt(\"x_test_median.csv\", delimiter=\",\")"
   ]
  },
  {
   "cell_type": "code",
   "execution_count": 91,
   "metadata": {},
   "outputs": [
    {
     "data": {
      "text/plain": [
       "(1212, 833)"
      ]
     },
     "execution_count": 91,
     "metadata": {},
     "output_type": "execute_result"
    }
   ],
   "source": [
    "features_train.shape"
   ]
  },
  {
   "cell_type": "code",
   "execution_count": 92,
   "metadata": {},
   "outputs": [],
   "source": [
    "features_train = features_train[:,1:]"
   ]
  },
  {
   "cell_type": "code",
   "execution_count": 93,
   "metadata": {},
   "outputs": [
    {
     "data": {
      "text/plain": [
       "((1212, 832), (777, 833))"
      ]
     },
     "execution_count": 93,
     "metadata": {},
     "output_type": "execute_result"
    }
   ],
   "source": [
    "(features_train.shape , features_test.shape)"
   ]
  },
  {
   "cell_type": "code",
   "execution_count": 94,
   "metadata": {},
   "outputs": [
    {
     "data": {
      "text/plain": [
       "array([[1.08918762e+01, 8.32442812e+05, 2.05855441e+04, ...,\n",
       "        1.03626330e+06, 8.53385585e+04, 1.03088664e+05],\n",
       "       [1.15129936e+01, 8.32442898e+05, 2.05855248e+04, ...,\n",
       "        1.00716322e+06, 9.56950206e+04, 1.05161109e+05],\n",
       "       [1.10521848e+01, 8.32442896e+05, 2.05855128e+04, ...,\n",
       "        1.01995544e+06, 8.02532999e+04, 1.04177052e+05],\n",
       "       ...,\n",
       "       [9.26732222e+00, 8.32442816e+05, 2.05855258e+04, ...,\n",
       "        1.00787121e+06, 1.19139273e+05, 1.05240375e+05],\n",
       "       [1.00000786e+01, 8.32442827e+05, 2.05855641e+04, ...,\n",
       "        1.04786315e+06, 1.04741008e+05, 1.00272537e+05],\n",
       "       [9.07080996e+00, 8.32442842e+05, 2.05855319e+04, ...,\n",
       "        1.02989438e+06, 9.98021279e+04, 1.04448184e+05]])"
      ]
     },
     "execution_count": 94,
     "metadata": {},
     "output_type": "execute_result"
    }
   ],
   "source": [
    "features_train"
   ]
  },
  {
   "cell_type": "code",
   "execution_count": 89,
   "metadata": {},
   "outputs": [
    {
     "data": {
      "text/plain": [
       "array([[           nan,            nan,            nan, ...,\n",
       "                   nan,            nan,            nan],\n",
       "       [1.08918762e+01, 8.32442812e+05, 2.05855441e+04, ...,\n",
       "        1.03626330e+06, 8.53385585e+04, 1.03088664e+05],\n",
       "       [1.15129936e+01, 8.32442898e+05, 2.05855248e+04, ...,\n",
       "        1.00716322e+06, 9.56950206e+04, 1.05161109e+05],\n",
       "       ...,\n",
       "       [9.26732222e+00, 8.32442816e+05, 2.05855258e+04, ...,\n",
       "        1.00787121e+06, 1.19139273e+05, 1.05240375e+05],\n",
       "       [1.00000786e+01, 8.32442827e+05, 2.05855641e+04, ...,\n",
       "        1.04786315e+06, 1.04741008e+05, 1.00272537e+05],\n",
       "       [9.07080996e+00, 8.32442842e+05, 2.05855319e+04, ...,\n",
       "        1.02989438e+06, 9.98021279e+04, 1.04448184e+05]])"
      ]
     },
     "execution_count": 89,
     "metadata": {},
     "output_type": "execute_result"
    }
   ],
   "source": [
    "features_train"
   ]
  },
  {
   "cell_type": "code",
   "execution_count": 95,
   "metadata": {},
   "outputs": [
    {
     "data": {
      "text/plain": [
       "array([[1.08918762e+01, 8.32442812e+05, 2.05855441e+04, ...,\n",
       "        1.03626330e+06, 8.53385585e+04, 1.03088664e+05],\n",
       "       [1.15129936e+01, 8.32442898e+05, 2.05855248e+04, ...,\n",
       "        1.00716322e+06, 9.56950206e+04, 1.05161109e+05],\n",
       "       [1.10521848e+01, 8.32442896e+05, 2.05855128e+04, ...,\n",
       "        1.01995544e+06, 8.02532999e+04, 1.04177052e+05],\n",
       "       ...,\n",
       "       [9.26732222e+00, 8.32442816e+05, 2.05855258e+04, ...,\n",
       "        1.00787121e+06, 1.19139273e+05, 1.05240375e+05],\n",
       "       [1.00000786e+01, 8.32442827e+05, 2.05855641e+04, ...,\n",
       "        1.04786315e+06, 1.04741008e+05, 1.00272537e+05],\n",
       "       [9.07080996e+00, 8.32442842e+05, 2.05855319e+04, ...,\n",
       "        1.02989438e+06, 9.98021279e+04, 1.04448184e+05]])"
      ]
     },
     "execution_count": 95,
     "metadata": {},
     "output_type": "execute_result"
    }
   ],
   "source": [
    "features_train"
   ]
  },
  {
   "cell_type": "markdown",
   "metadata": {},
   "source": [
    "### We use the Isolation Forest Anomaly detection method:"
   ]
  },
  {
   "cell_type": "code",
   "execution_count": 97,
   "metadata": {},
   "outputs": [
    {
     "name": "stderr",
     "output_type": "stream",
     "text": [
      "/opt/anaconda3/lib/python3.7/site-packages/sklearn/ensemble/iforest.py:237: FutureWarning: default contamination parameter 0.1 will change in version 0.22 to \"auto\". This will change the predict method behavior.\n",
      "  FutureWarning)\n",
      "/opt/anaconda3/lib/python3.7/site-packages/sklearn/ensemble/iforest.py:247: FutureWarning: behaviour=\"old\" is deprecated and will be removed in version 0.22. Please use behaviour=\"new\", which makes the decision_function change to match other anomaly detection algorithm API.\n",
      "  FutureWarning)\n",
      "/opt/anaconda3/lib/python3.7/site-packages/sklearn/ensemble/iforest.py:415: DeprecationWarning: threshold_ attribute is deprecated in 0.20 and will be removed in 0.22.\n",
      "  \" be removed in 0.22.\", DeprecationWarning)\n"
     ]
    }
   ],
   "source": [
    "clf = IsolationForest(max_samples=10)\n",
    "clf.fit(features_train)\n",
    "features_trainNO = clf.predict(features_train)"
   ]
  },
  {
   "cell_type": "code",
   "execution_count": 98,
   "metadata": {},
   "outputs": [
    {
     "data": {
      "text/plain": [
       "{-1: 122, 1: 1090}"
      ]
     },
     "execution_count": 98,
     "metadata": {},
     "output_type": "execute_result"
    }
   ],
   "source": [
    "unique, counts = np.unique(features_trainNO, return_counts=True)\n",
    "dict(zip(unique, counts))"
   ]
  },
  {
   "cell_type": "code",
   "execution_count": 99,
   "metadata": {},
   "outputs": [],
   "source": [
    "np.savetxt(\"features_trainNO.csv\", features_trainNO, delimiter=\",\")"
   ]
  },
  {
   "cell_type": "code",
   "execution_count": null,
   "metadata": {},
   "outputs": [],
   "source": [
    "    "
   ]
  }
 ],
 "metadata": {
  "kernelspec": {
   "display_name": "Python 3",
   "language": "python",
   "name": "python3"
  },
  "language_info": {
   "codemirror_mode": {
    "name": "ipython",
    "version": 3
   },
   "file_extension": ".py",
   "mimetype": "text/x-python",
   "name": "python",
   "nbconvert_exporter": "python",
   "pygments_lexer": "ipython3",
   "version": "3.7.4"
  }
 },
 "nbformat": 4,
 "nbformat_minor": 2
}
